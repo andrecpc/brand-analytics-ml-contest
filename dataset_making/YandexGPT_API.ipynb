{
 "cells": [
  {
   "cell_type": "code",
   "execution_count": 3,
   "id": "532d84c3-9bec-4fb6-a653-0f5ec32ff6b8",
   "metadata": {
    "execution": {
     "iopub.execute_input": "2023-12-14T07:18:24.978701Z",
     "iopub.status.busy": "2023-12-14T07:18:24.977749Z",
     "iopub.status.idle": "2023-12-14T07:18:29.504830Z",
     "shell.execute_reply": "2023-12-14T07:18:29.504161Z",
     "shell.execute_reply.started": "2023-12-14T07:18:24.978659Z"
    },
    "tags": []
   },
   "outputs": [
    {
     "name": "stdout",
     "output_type": "stream",
     "text": [
      "Archive:  dataset.jsonl.zip\n",
      "  inflating: dataset.jsonl           \n",
      "  inflating: __MACOSX/._dataset.jsonl  \n"
     ]
    }
   ],
   "source": [
    "!unzip dataset.jsonl.zip"
   ]
  },
  {
   "cell_type": "code",
   "execution_count": 9,
   "id": "97fee3b1-9143-4a38-b862-5004abacebfe",
   "metadata": {
    "execution": {
     "iopub.execute_input": "2023-12-14T07:35:19.402396Z",
     "iopub.status.busy": "2023-12-14T07:35:19.401924Z",
     "iopub.status.idle": "2023-12-14T07:35:19.415228Z",
     "shell.execute_reply": "2023-12-14T07:35:19.414483Z",
     "shell.execute_reply.started": "2023-12-14T07:35:19.402362Z"
    },
    "tags": []
   },
   "outputs": [],
   "source": [
    "import requests\n",
    "import pandas as pd\n",
    "import json\n",
    "import time"
   ]
  },
  {
   "cell_type": "code",
   "execution_count": 4,
   "id": "bf156bcf-cd76-4261-b33c-02c3a02e4475",
   "metadata": {
    "execution": {
     "iopub.execute_input": "2023-12-14T07:18:39.855056Z",
     "iopub.status.busy": "2023-12-14T07:18:39.853914Z",
     "iopub.status.idle": "2023-12-14T07:18:45.374456Z",
     "shell.execute_reply": "2023-12-14T07:18:45.373606Z",
     "shell.execute_reply.started": "2023-12-14T07:18:39.854998Z"
    },
    "tags": []
   },
   "outputs": [],
   "source": [
    "# Парсинг jsonl\n",
    "\n",
    "def read_jsonl(filename):\n",
    "    data = []\n",
    "    with open(filename, 'r') as f:\n",
    "        for line in f:\n",
    "            data.append(json.loads(line))\n",
    "    return data\n",
    "\n",
    "def process_data(data):\n",
    "    posts = []\n",
    "    comments = []\n",
    "    for el in data:\n",
    "        if 'root_id' not in el:\n",
    "            posts.append(el)\n",
    "        else:\n",
    "            comments.append(el)\n",
    "    return posts, comments\n",
    "\n",
    "posts, comments = process_data(read_jsonl('../input/dataset.jsonl'))\n",
    "\n",
    "# pd.DataFrame(posts).to_pickle('posts.pkl')\n",
    "# pd.DataFrame(comments).to_pickle('comments.pkl')\n",
    "posts = pd.DataFrame(posts)\n",
    "comments = pd.DataFrame(comments)\n",
    "\n",
    "comments['date'] = pd.to_datetime(comments['date'], unit='s')\n",
    "comments.sort_values(by='date', inplace=True)"
   ]
  },
  {
   "cell_type": "code",
   "execution_count": 5,
   "id": "21d71113-0841-4ca0-b058-747bce03af01",
   "metadata": {
    "execution": {
     "iopub.execute_input": "2023-12-14T07:19:12.965438Z",
     "iopub.status.busy": "2023-12-14T07:19:12.964559Z",
     "iopub.status.idle": "2023-12-14T07:28:54.034122Z",
     "shell.execute_reply": "2023-12-14T07:28:54.032587Z",
     "shell.execute_reply.started": "2023-12-14T07:19:12.965382Z"
    },
    "tags": []
   },
   "outputs": [],
   "source": [
    "# Подготовка текстов комментов\n",
    "\n",
    "N = posts.shape[0] # posts.shape[0]\n",
    "SEQ_LEN = 1500\n",
    "\n",
    "posts_idx = []\n",
    "posts_hashes = []\n",
    "comments_hashes = []\n",
    "texts = []\n",
    "\n",
    "for index, row in posts[0:N].iterrows():\n",
    "    id = row['id']\n",
    "    parent_hash = row['hash']\n",
    "    posts_idx.append(id)\n",
    "    posts_hashes.append(parent_hash)\n",
    "\n",
    "    sl = comments.loc[comments.parent_id==id]\n",
    "    text = ' '.join(sl.text.values)[0:SEQ_LEN]\n",
    "    childrens_hashes = list(sl.hash.values)\n",
    "    comments_hashes.append(childrens_hashes)\n",
    "    texts.append(text)"
   ]
  },
  {
   "cell_type": "code",
   "execution_count": 6,
   "id": "abb4c7cc-c99f-4533-8b31-94886d2ff192",
   "metadata": {
    "execution": {
     "iopub.execute_input": "2023-12-14T07:28:54.035600Z",
     "iopub.status.busy": "2023-12-14T07:28:54.035248Z",
     "iopub.status.idle": "2023-12-14T07:28:54.075248Z",
     "shell.execute_reply": "2023-12-14T07:28:54.074539Z",
     "shell.execute_reply.started": "2023-12-14T07:28:54.035568Z"
    },
    "tags": []
   },
   "outputs": [
    {
     "data": {
      "text/plain": [
       "10008"
      ]
     },
     "execution_count": 6,
     "metadata": {},
     "output_type": "execute_result"
    }
   ],
   "source": [
    "len(texts)"
   ]
  },
  {
   "cell_type": "code",
   "execution_count": 7,
   "id": "4a456615-6374-40c1-ae46-b65f1fc4384f",
   "metadata": {
    "execution": {
     "iopub.execute_input": "2023-12-14T07:28:54.079371Z",
     "iopub.status.busy": "2023-12-14T07:28:54.078673Z",
     "iopub.status.idle": "2023-12-14T07:28:54.106319Z",
     "shell.execute_reply": "2023-12-14T07:28:54.105558Z",
     "shell.execute_reply.started": "2023-12-14T07:28:54.079333Z"
    },
    "tags": []
   },
   "outputs": [
    {
     "data": {
      "text/plain": [
       "'После прослушивания записи сижу просто в шоке! После 3-4 сессий терапии должно стать легче?! Я чувствую себя просто тупой дурой! Прошла Машин курс по психосоматике, плюс личная терапия с другими психологами, плюс терапевтическая группа  год. Плюс 7 лет работала по системе Д. Троцкого. И ничего! Ребята! О! Что еще надо сделать чтобы болезнь сдвинулась с места.? Я сделала все, что было в курсе. В реальной жизни тоже сделала, то что было необходимо. Как в песок! Что не так? Помогите! Питание, БАДы. Режим. Все есть. Подключилось еще сердце. Прям организм мне орет! Не туда идешь. Никаких улучшений. Ну должно же было хоть сто то измениться? Ну хоть на 10%? Хоть на 5? Или есть такие пациенты в вашей практике? Которым не помогает? Ну тоже психолог, который основывается на знания, которым не менее 2000 лет. Ну и на всех религиях мира. Т.е. его система не противоречит ни одному духовному закону и ни одной религии.'"
      ]
     },
     "execution_count": 7,
     "metadata": {},
     "output_type": "execute_result"
    }
   ],
   "source": [
    "texts[1000]"
   ]
  },
  {
   "cell_type": "code",
   "execution_count": 69,
   "id": "cb25c34d-3aba-4639-8515-fc6b6e9f0159",
   "metadata": {
    "execution": {
     "iopub.execute_input": "2023-12-14T08:07:22.743182Z",
     "iopub.status.busy": "2023-12-14T08:07:22.742498Z",
     "iopub.status.idle": "2023-12-14T08:07:22.772066Z",
     "shell.execute_reply": "2023-12-14T08:07:22.771244Z",
     "shell.execute_reply.started": "2023-12-14T08:07:22.743144Z"
    },
    "tags": []
   },
   "outputs": [],
   "source": [
    "answers = []\n",
    "inputs = []\n",
    "iam_token = '''xxxxxxxxxxxx'''\n",
    "x_folder_id = 'xxxxxxxxxxxx'"
   ]
  },
  {
   "cell_type": "code",
   "execution_count": 70,
   "id": "623cde95-d908-4a70-bce2-742caa70ed98",
   "metadata": {
    "execution": {
     "iopub.execute_input": "2023-12-14T08:07:22.876411Z",
     "iopub.status.busy": "2023-12-14T08:07:22.875292Z",
     "iopub.status.idle": "2023-12-14T13:06:57.507192Z",
     "shell.execute_reply": "2023-12-14T13:06:57.506432Z",
     "shell.execute_reply.started": "2023-12-14T08:07:22.876368Z"
    },
    "tags": []
   },
   "outputs": [
    {
     "name": "stdout",
     "output_type": "stream",
     "text": [
      "0\n",
      "100\n",
      "200\n",
      "300\n",
      "400\n",
      "500\n",
      "600\n",
      "700\n",
      "800\n",
      "900\n",
      "1000\n",
      "1100\n",
      "1200\n",
      "1300\n",
      "1400\n",
      "1500\n",
      "1600\n",
      "1700\n",
      "1800\n",
      "1900\n",
      "2000\n",
      "2100\n",
      "2200\n",
      "2300\n",
      "2400\n",
      "2500\n",
      "2600\n",
      "2700\n",
      "2800\n",
      "2900\n",
      "3000\n",
      "3100\n",
      "3200\n",
      "3300\n",
      "3400\n",
      "3500\n",
      "3600\n",
      "3700\n",
      "3800\n",
      "3900\n",
      "4000\n",
      "4100\n",
      "4200\n",
      "4300\n",
      "4400\n",
      "4500\n",
      "4600\n",
      "4700\n",
      "4800\n",
      "4900\n",
      "5000\n",
      "5100\n",
      "5200\n",
      "5300\n",
      "5400\n",
      "5500\n",
      "5600\n",
      "5700\n",
      "5800\n",
      "5900\n",
      "6000\n",
      "6100\n",
      "6200\n",
      "6300\n",
      "6400\n",
      "6500\n",
      "6600\n",
      "6700\n",
      "6800\n",
      "6900\n",
      "7000\n",
      "7100\n",
      "7200\n",
      "7300\n",
      "7400\n",
      "7500\n",
      "7600\n",
      "7700\n",
      "7800\n",
      "7900\n",
      "8000\n",
      "8100\n",
      "8200\n",
      "8300\n",
      "8400\n",
      "8500\n",
      "8600\n",
      "8700\n",
      "8800\n",
      "8900\n",
      "9000\n",
      "9100\n",
      "9200\n",
      "9300\n",
      "9400\n",
      "9500\n",
      "9600\n",
      "9700\n",
      "9800\n",
      "9900\n",
      "10000\n"
     ]
    }
   ],
   "source": [
    "instruction = \"\"\"\n",
    "На основе этих комментариев дай сокращенное предложение (summary) о том, что обсуждается в этом тексте.\n",
    "Напиши только 1-3 предложения.\n",
    "Выделите основные концепции и идеи, используя не более 3 предложений.\n",
    "Обобщи содержание в нескольких предложениях, не теряя смысла.\n",
    "Предоставь в ответе краткое содержание текста с сохранением смысла. Имей ввиду, что этот текст == это комментарии из социальных сетей.\n",
    "Сфокусируйся на основных идеях и выводах, не углубляясь в детали.\n",
    "\"\"\"\n",
    "# Выделите основные концепции и идеи, используя не более 3 предложений.\n",
    "# Обобщи содержание в нескольких предложениях, не теряя смысла.\n",
    "# Предоставь в ответе краткое содержание текста с сохранением смысла. Имей ввиду, что этот текст == это комментарии из социальных сетей.\n",
    "# Сфокусируйся на основных идеях и выводах, не углубляясь в детали.\n",
    "\n",
    "# НЕ ИСПОЛЬЗУЙ подводок в духе: \n",
    "# В этом тексте обсуждается...\n",
    "# В комментариях под постом обсуждаются...\n",
    "# Пост о том, как...\n",
    "# Люди обсуждают...\n",
    "# и им подобных.\n",
    "# Сразу выдавай основную мысль.\n",
    "# Если в ответе есть вводная часть типа В этом тексте обсуждается..., В комментариях под постом обсуждаются..., Пост о том, как..., Люди обсуждают..., В комментариях к посту...\n",
    "# то удаляй эту вводную часть.\n",
    "\n",
    "for index, text in enumerate(texts):\n",
    "        \n",
    "    error = 'ai.textGenerationCompletionSessionsCount.count gauge quota limit exceed: allowed 3 requests'\n",
    "    \n",
    "    try:\n",
    "        result = requests.post(\n",
    "        url='https://llm.api.cloud.yandex.net/llm/v1alpha/instruct',\n",
    "        # headers={'Authorization': f'Bearer {iam_token}', 'x-folder-id': x_folder_id},\n",
    "        headers={\"Authorization\": \"Api-Key xxxxxxxxxxxx\"},\n",
    "        json={\n",
    "          \"model\": \"general\",\n",
    "          \"instruction_text\": \"Ниже идет множество комментариев под постом, собранных вместе:\\n\\n\",\n",
    "          \"request_text\": f\"{text}\\n\\n{instruction}\",\n",
    "          \"generation_options\": {\n",
    "            \"max_tokens\": 1500,  \n",
    "            \"temperature\": 0.5\n",
    "              }\n",
    "            }\n",
    "        )\n",
    "        answer = result.json()['result']['alternatives'][0]['text']\n",
    "        error = '-'\n",
    "    except Exception as e:\n",
    "        time.sleep(1)\n",
    "        error = result.json()['error']['message']\n",
    "        # print(error)\n",
    "        answer = '-'\n",
    "        while 'ai.textGenerationCompletionSessionsCount.count gauge quota limit exceed:' in error:\n",
    "            time.sleep(1)\n",
    "            try:\n",
    "                result = requests.post(\n",
    "                url='https://llm.api.cloud.yandex.net/llm/v1alpha/instruct',\n",
    "                # headers={'Authorization': f'Bearer {iam_token}', 'x-folder-id': x_folder_id},\n",
    "                headers={\"Authorization\": \"Api-Key xxxxxxxxxxxx\"},\n",
    "                json={\n",
    "                  \"model\": \"general\",\n",
    "                  \"instruction_text\": \"Ниже идет множество комментариев под постом, собранных вместе:\\n\\n\",\n",
    "                  \"request_text\": f\"{text}\\n\\n{instruction}\",\n",
    "                  \"generation_options\": {\n",
    "                    \"max_tokens\": 1500,  \n",
    "                    \"temperature\": 0.5\n",
    "                      }\n",
    "                    }\n",
    "                )\n",
    "                answer = result.json()['result']['alternatives'][0]['text']\n",
    "                error = '-'\n",
    "            except Exception as e:\n",
    "                time.sleep(1)\n",
    "                error = result.json()['error']['message']\n",
    "                # print(error)\n",
    "                answer = '-'\n",
    "\n",
    "        \n",
    "    answers.append(answer)\n",
    "    inputs.append(text)\n",
    "    \n",
    "    if index%100 == 0:\n",
    "        print(index)\n",
    "        df = pd.DataFrame({\"text\": inputs, \"answer\": answers})\n",
    "        df.to_excel('df_result_final.xlsx', index=False)"
   ]
  },
  {
   "cell_type": "code",
   "execution_count": 71,
   "id": "7b96c3f2-80f0-45b1-9900-eab0d3c9f5c0",
   "metadata": {
    "execution": {
     "iopub.execute_input": "2023-12-14T13:06:57.508897Z",
     "iopub.status.busy": "2023-12-14T13:06:57.508448Z",
     "iopub.status.idle": "2023-12-14T13:06:57.523237Z",
     "shell.execute_reply": "2023-12-14T13:06:57.522487Z",
     "shell.execute_reply.started": "2023-12-14T13:06:57.508858Z"
    },
    "tags": []
   },
   "outputs": [
    {
     "data": {
      "text/plain": [
       "10007"
      ]
     },
     "execution_count": 71,
     "metadata": {},
     "output_type": "execute_result"
    }
   ],
   "source": [
    "index"
   ]
  },
  {
   "cell_type": "code",
   "execution_count": 72,
   "id": "291f9cd7-122c-4534-bb90-8f6e4c86a4ea",
   "metadata": {
    "execution": {
     "iopub.execute_input": "2023-12-14T13:06:57.525576Z",
     "iopub.status.busy": "2023-12-14T13:06:57.524770Z",
     "iopub.status.idle": "2023-12-14T13:06:57.537631Z",
     "shell.execute_reply": "2023-12-14T13:06:57.536977Z",
     "shell.execute_reply.started": "2023-12-14T13:06:57.525537Z"
    },
    "tags": []
   },
   "outputs": [],
   "source": [
    "df = pd.DataFrame({\"text\": inputs, \"answer\": answers})\n",
    "# df.to_csv('df_result.csv', index=False)"
   ]
  },
  {
   "cell_type": "code",
   "execution_count": 73,
   "id": "3f575be9-12c0-424b-9be3-293354292432",
   "metadata": {
    "execution": {
     "iopub.execute_input": "2023-12-14T13:06:57.539637Z",
     "iopub.status.busy": "2023-12-14T13:06:57.538975Z",
     "iopub.status.idle": "2023-12-14T13:06:57.565018Z",
     "shell.execute_reply": "2023-12-14T13:06:57.564293Z",
     "shell.execute_reply.started": "2023-12-14T13:06:57.539604Z"
    },
    "tags": []
   },
   "outputs": [
    {
     "data": {
      "text/html": [
       "<div>\n",
       "<style scoped>\n",
       "    .dataframe tbody tr th:only-of-type {\n",
       "        vertical-align: middle;\n",
       "    }\n",
       "\n",
       "    .dataframe tbody tr th {\n",
       "        vertical-align: top;\n",
       "    }\n",
       "\n",
       "    .dataframe thead th {\n",
       "        text-align: right;\n",
       "    }\n",
       "</style>\n",
       "<table border=\"1\" class=\"dataframe\">\n",
       "  <thead>\n",
       "    <tr style=\"text-align: right;\">\n",
       "      <th></th>\n",
       "      <th>text</th>\n",
       "      <th>answer</th>\n",
       "    </tr>\n",
       "  </thead>\n",
       "  <tbody>\n",
       "    <tr>\n",
       "      <th>0</th>\n",
       "      <td>Хорошая Лерочка ты женщина,  хозяюшка и заботл...</td>\n",
       "      <td>Текст представляет собой набор комментариев по...</td>\n",
       "    </tr>\n",
       "    <tr>\n",
       "      <th>1</th>\n",
       "      <td>Лапкозаврик встраивает узел в пустую ячейку и ...</td>\n",
       "      <td>В посте обсуждаются различные аспекты игры \"Ла...</td>\n",
       "    </tr>\n",
       "    <tr>\n",
       "      <th>2</th>\n",
       "      <td>интересно. эмпирическим методом надо это прове...</td>\n",
       "      <td>Комментарии обсуждают рацион правильного питан...</td>\n",
       "    </tr>\n",
       "    <tr>\n",
       "      <th>3</th>\n",
       "      <td>Юрий хороший вы человек, да поможет вам Бог .❤...</td>\n",
       "      <td>В этом комментарии обсуждается, что ролики Юри...</td>\n",
       "    </tr>\n",
       "    <tr>\n",
       "      <th>4</th>\n",
       "      <td>Вау... прекрасно ❤ Как всегда идеально❤ Атмосф...</td>\n",
       "      <td>В комментариях к посту автор выражает свою рад...</td>\n",
       "    </tr>\n",
       "    <tr>\n",
       "      <th>...</th>\n",
       "      <td>...</td>\n",
       "      <td>...</td>\n",
       "    </tr>\n",
       "    <tr>\n",
       "      <th>10003</th>\n",
       "      <td>🙏🙏🙏 🙏🙏🙏🌱❤🌹🌹🌹🌹🌹 🙏🙏🙏 🙏🙏🙏🙏🙏❤ Аминь🙏🙏🙏❤❤❤🌷🌷🌷 🙏🙏🙏 🙏...</td>\n",
       "      <td>В данном тексте обсуждаются комментарии под по...</td>\n",
       "    </tr>\n",
       "    <tr>\n",
       "      <th>10004</th>\n",
       "      <td>Ух ты, здорово Участвую Будем участвовать Как ...</td>\n",
       "      <td>В этом посте обсуждаются разные мнения и точки...</td>\n",
       "    </tr>\n",
       "    <tr>\n",
       "      <th>10005</th>\n",
       "      <td>Банда зигзага Слово пацана Слово пацана Слово ...</td>\n",
       "      <td>В комментариях к посту в социальных сетях обсу...</td>\n",
       "    </tr>\n",
       "    <tr>\n",
       "      <th>10006</th>\n",
       "      <td>Напоминаю о том, что делает нашу жизнь гармони...</td>\n",
       "      <td>Вот основные идеи и ключевые моменты из текста...</td>\n",
       "    </tr>\n",
       "    <tr>\n",
       "      <th>10007</th>\n",
       "      <td>Партию черного лебедя в шоу Плюшенко исполняли...</td>\n",
       "      <td>Текст обсуждает образы, созданные фигуристками...</td>\n",
       "    </tr>\n",
       "  </tbody>\n",
       "</table>\n",
       "<p>10008 rows × 2 columns</p>\n",
       "</div>"
      ],
      "text/plain": [
       "                                                    text                                             answer\n",
       "0      Хорошая Лерочка ты женщина,  хозяюшка и заботл...  Текст представляет собой набор комментариев по...\n",
       "1      Лапкозаврик встраивает узел в пустую ячейку и ...  В посте обсуждаются различные аспекты игры \"Ла...\n",
       "2      интересно. эмпирическим методом надо это прове...  Комментарии обсуждают рацион правильного питан...\n",
       "3      Юрий хороший вы человек, да поможет вам Бог .❤...  В этом комментарии обсуждается, что ролики Юри...\n",
       "4      Вау... прекрасно ❤ Как всегда идеально❤ Атмосф...  В комментариях к посту автор выражает свою рад...\n",
       "...                                                  ...                                                ...\n",
       "10003  🙏🙏🙏 🙏🙏🙏🌱❤🌹🌹🌹🌹🌹 🙏🙏🙏 🙏🙏🙏🙏🙏❤ Аминь🙏🙏🙏❤❤❤🌷🌷🌷 🙏🙏🙏 🙏...  В данном тексте обсуждаются комментарии под по...\n",
       "10004  Ух ты, здорово Участвую Будем участвовать Как ...  В этом посте обсуждаются разные мнения и точки...\n",
       "10005  Банда зигзага Слово пацана Слово пацана Слово ...  В комментариях к посту в социальных сетях обсу...\n",
       "10006  Напоминаю о том, что делает нашу жизнь гармони...  Вот основные идеи и ключевые моменты из текста...\n",
       "10007  Партию черного лебедя в шоу Плюшенко исполняли...  Текст обсуждает образы, созданные фигуристками...\n",
       "\n",
       "[10008 rows x 2 columns]"
      ]
     },
     "execution_count": 73,
     "metadata": {},
     "output_type": "execute_result"
    }
   ],
   "source": [
    "df"
   ]
  },
  {
   "cell_type": "code",
   "execution_count": 74,
   "id": "818ff010-ad17-4299-8cd0-2bbf86dc60df",
   "metadata": {
    "execution": {
     "iopub.execute_input": "2023-12-14T13:06:57.566856Z",
     "iopub.status.busy": "2023-12-14T13:06:57.566038Z",
     "iopub.status.idle": "2023-12-14T13:07:01.999081Z",
     "shell.execute_reply": "2023-12-14T13:07:01.998218Z",
     "shell.execute_reply.started": "2023-12-14T13:06:57.566818Z"
    },
    "tags": []
   },
   "outputs": [],
   "source": [
    "df.to_excel('df_result_final.xlsx', index=False)"
   ]
  },
  {
   "cell_type": "code",
   "execution_count": null,
   "id": "ff1e6224-b7eb-4560-94e9-2cbe8cddaa8c",
   "metadata": {},
   "outputs": [],
   "source": []
  }
 ],
 "metadata": {
  "kernelspec": {
   "display_name": "DataSphere Kernel",
   "language": "python",
   "name": "python3"
  },
  "language_info": {
   "codemirror_mode": {
    "name": "ipython",
    "version": 3
   },
   "file_extension": ".py",
   "mimetype": "text/x-python",
   "name": "python",
   "nbconvert_exporter": "python",
   "pygments_lexer": "ipython3",
   "version": "3.7.7"
  }
 },
 "nbformat": 4,
 "nbformat_minor": 5
}
